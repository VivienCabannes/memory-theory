{
 "cells": [
  {
   "attachments": {},
   "cell_type": "markdown",
   "metadata": {},
   "source": [
    "# Interaction between two particles"
   ]
  },
  {
   "cell_type": "code",
   "execution_count": 1,
   "metadata": {},
   "outputs": [],
   "source": [
    "%load_ext autoreload\n",
    "%autoreload 2"
   ]
  },
  {
   "cell_type": "code",
   "execution_count": 2,
   "metadata": {},
   "outputs": [
    {
     "data": {
      "text/plain": [
       "<torch._C.Generator at 0x7fc0b0e2adf0>"
      ]
     },
     "execution_count": 2,
     "metadata": {},
     "output_type": "execute_result"
    }
   ],
   "source": [
    "import sys\n",
    "\n",
    "import matplotlib.pyplot as plt\n",
    "import numpy as np\n",
    "import torch\n",
    "import torch.nn.functional as F\n",
    "from scipy.linalg import eigh\n",
    "\n",
    "\n",
    "sys.path.append('.')\n",
    "from model import AssociativeMemory, get_embeddings\n",
    "\n",
    "torch.manual_seed(42)"
   ]
  },
  {
   "attachments": {},
   "cell_type": "markdown",
   "metadata": {},
   "source": [
    "We consider the settings where $y = x$, $d=2$, $f_i$ is the canonical basis of $\\R^2$, $u_y = f_y$, $e_1 = f_1$, $e_2 = \\alpha f_1 + \\sqrt{1-\\alpha^2} f_2$."
   ]
  },
  {
   "cell_type": "code",
   "execution_count": 96,
   "metadata": {},
   "outputs": [],
   "source": [
    "# hyparameters\n",
    "n = 2\n",
    "d = 2\n",
    "alpha = -.5      # angle between the two tokens\n",
    "p = .75         # probability of the first tokens\n",
    "\n",
    "def f(x, epsilon=0):\n",
    "    return x\n",
    "\n",
    "# data\n",
    "all_x = torch.arange(n)\n",
    "all_y = f(all_x)\n",
    "proba = torch.tensor([p, 1-p])\n",
    "\n",
    "E = torch.eye(n)\n",
    "U = torch.eye(n)\n",
    "E[1,0] = alpha\n",
    "E[1,1] = np.sqrt(1-alpha**2)\n",
    "\n",
    "model = AssociativeMemory(E, U)"
   ]
  },
  {
   "attachments": {},
   "cell_type": "markdown",
   "metadata": {},
   "source": [
    "For any parameter $W$, the sufficient statistics are given by $\\gamma_i = f_i^\\top W (u_2 - u_1)$.\n",
    "Reciprocally, for some values $(\\gamma_i)$, one can set $W = \\sum \\gamma_i f_i \\otimes (u_2 - u_1) / 2$."
   ]
  },
  {
   "cell_type": "code",
   "execution_count": 99,
   "metadata": {},
   "outputs": [],
   "source": [
    "lim = 10\n",
    "num = 50\n",
    "gamma_0, gamma_1 = np.meshgrid(np.linspace(-lim, lim, num=num), np.linspace(-lim, lim, num=num))\n",
    "\n",
    "Ws = np.zeros((num * num, d, d))\n",
    "Ws[:, 0, 0] = gamma_0.flatten()\n",
    "Ws[:, 1, 0] = gamma_1.flatten()\n",
    "Ws[:, 0, 1] = -Ws[:, 0, 0]\n",
    "Ws[:, 1, 1] = -Ws[:, 1, 0]\n",
    "Ws /= 2\n",
    "Ws = torch.tensor(Ws, dtype=torch.float32)\n",
    "\n",
    "score = E @ (Ws @ U.T)\n",
    "\n",
    "assert (score[:, 0, 0] - score[:, 0, 1] == torch.tensor(gamma_0.flatten(), dtype=torch.float32)).all()\n",
    "if alpha == 0:\n",
    "    assert (score[:, 1, 0] - score[:, 1, 1] == torch.tensor(gamma_1.flatten(), dtype=torch.float32)).all()"
   ]
  },
  {
   "cell_type": "code",
   "execution_count": 100,
   "metadata": {},
   "outputs": [
    {
     "data": {
      "image/png": "[encoded data removed]",
      "text/plain": [
       "<Figure size 250x200 with 2 Axes>"
      ]
     },
     "metadata": {},
     "output_type": "display_data"
    }
   ],
   "source": [
    "log_likelihood = F.log_softmax(score, dim=2)\n",
    "log_likelihood = log_likelihood[:, all_x, all_y]\n",
    "train_loss = (log_likelihood * (-proba)).mean(dim=1)\n",
    "Z = train_loss.numpy()\n",
    "fig, ax = plt.subplots(figsize=(2.5, 2))\n",
    "c = ax.contourf(gamma_0, gamma_1, Z.reshape(num, num), levels=20)\n",
    "fig.colorbar(c)\n",
    "ax.set_xticks([])\n",
    "ax.set_yticks([])\n",
    "fig.suptitle('Population train landscape')\n",
    "fig.savefig('population_train_landscape.pdf', bbox_inches='tight', pad_inches=0)"
   ]
  },
  {
   "cell_type": "code",
   "execution_count": 101,
   "metadata": {},
   "outputs": [],
   "source": [
    "H = np.zeros((num**2, n))\n",
    "for i in range(num**2):\n",
    "    model.W.data = Ws[i]\n",
    "    for j in range(n):\n",
    "        H[i, j] = eigh(model.hessian(all_x[j:j+1]).numpy(), eigvals_only=True).max()"
   ]
  },
  {
   "cell_type": "code",
   "execution_count": 102,
   "metadata": {},
   "outputs": [
    {
     "data": {
      "image/png": "[encoded data removed]",
      "text/plain": [
       "<Figure size 250x200 with 2 Axes>"
      ]
     },
     "metadata": {},
     "output_type": "display_data"
    }
   ],
   "source": [
    "Z = (H * proba.numpy()).mean(axis=1)\n",
    "fig, ax = plt.subplots(figsize=(2.5, 2))\n",
    "c = ax.contourf(gamma_0, gamma_1, Z.reshape(num, num))\n",
    "fig.colorbar(c)\n",
    "ax.set_xticks([])\n",
    "ax.set_yticks([])\n",
    "fig.suptitle('Sharpness')\n",
    "fig.savefig('sharpness.pdf', bbox_inches='tight', pad_inches=0)"
   ]
  },
  {
   "cell_type": "code",
   "execution_count": null,
   "metadata": {},
   "outputs": [],
   "source": []
  }
 ],
 "metadata": {
  "kernelspec": {
   "display_name": "dev",
   "language": "python",
   "name": "python3"
  },
  "language_info": {
   "codemirror_mode": {
    "name": "ipython",
    "version": 3
   },
   "file_extension": ".py",
   "mimetype": "text/x-python",
   "name": "python",
   "nbconvert_exporter": "python",
   "pygments_lexer": "ipython3",
   "version": "3.10.4"
  },
  "orig_nbformat": 4
 },
 "nbformat": 4,
 "nbformat_minor": 2
}
