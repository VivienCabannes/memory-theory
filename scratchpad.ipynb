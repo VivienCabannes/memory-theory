{
 "cells": [
  {
   "attachments": {},
   "cell_type": "markdown",
   "metadata": {},
   "source": [
    "# Edge of Stability with Associative Memory model\n",
    "\n",
    "The goal of this notebook is to show edge of stability arising in the associative memory model considered in the paper ``Scaling laws for associative memories''."
   ]
  },
  {
   "cell_type": "code",
   "execution_count": 1,
   "metadata": {},
   "outputs": [
    {
     "data": {
      "text/plain": [
       "<torch._C.Generator at 0x7f896930c170>"
      ]
     },
     "execution_count": 1,
     "metadata": {},
     "output_type": "execute_result"
    }
   ],
   "source": [
    "import subprocess\n",
    "from math import sqrt\n",
    "from random import seed\n",
    "\n",
    "import matplotlib.pyplot as plt\n",
    "import numpy as np\n",
    "import torch as th\n",
    "import torch.nn as nn\n",
    "import torch.nn.functional as F\n",
    "\n",
    "# be mindful of pseudo-random number generator\n",
    "th.manual_seed(0)"
   ]
  },
  {
   "attachments": {},
   "cell_type": "markdown",
   "metadata": {},
   "source": [
    "Some of the code will be cast into a `utils.py` file"
   ]
  },
  {
   "cell_type": "code",
   "execution_count": 2,
   "metadata": {},
   "outputs": [],
   "source": [
    "%load_ext autoreload\n",
    "%autoreload 2"
   ]
  },
  {
   "cell_type": "code",
   "execution_count": 3,
   "metadata": {},
   "outputs": [],
   "source": [
    "import sys\n",
    "sys.path.append('.')"
   ]
  },
  {
   "attachments": {},
   "cell_type": "markdown",
   "metadata": {},
   "source": [
    "# Part 1: Setup and Training loop\n",
    "\n",
    "## Model\n",
    "We define the model.\n",
    "We take random embeddings of both integer inputs $x$ and integer outputs $y$ as random vectors of the sphere in $\\R^d$, respectively $e_x$ and $u_y$.\n",
    "Then we map $x$ to $y$ through the model $y = f_W(x)$, where $W$ is a matrix of size $d \\times d$ to be learned and that parameterizes\n",
    "$$\n",
    "    f_W(x) = \\argmax_{y} e_x^\\top W u_y = \\argmax_y \\langle e_x, W u_y \\rangle.\n",
    "$$\n",
    "The natural formula would be\n",
    "$\n",
    "    f_W(x) = \\argmax_{y} \\langle u_y, W e_x \\rangle,\n",
    "$\n",
    "but because of C memory order, it is more natural to implement it the other way around."
   ]
  },
  {
   "cell_type": "code",
   "execution_count": 4,
   "metadata": {},
   "outputs": [],
   "source": [
    "def get_embeddings(n, d, norm=True):\n",
    "    emb = th.randn(n, d)\n",
    "    if norm:\n",
    "        emb /= emb.norm(dim=1, keepdim=True)\n",
    "    else:\n",
    "        emb /= sqrt(d)\n",
    "    return emb\n",
    "\n",
    "\n",
    "class AssMem(nn.Module):\n",
    "    def __init__(self, E, U):\n",
    "        \"\"\"\n",
    "        E: torch.Tensor\n",
    "            Input embedding matrix of size $n \\times d$,\n",
    "            where $n$ is the number of tokens and $d$ is the embedding dimension.\n",
    "        U: torch.Tensor\n",
    "            Output unembedding matrix of size $d \\times m$,\n",
    "            where $m$ is the number of classes and $d$ is the embedding dimension.\n",
    "        \"\"\"\n",
    "        super().__init__()\n",
    "        d = E.shape[1]\n",
    "        self.W = nn.Parameter(th.zeros(d, d))\n",
    "        # self.W = nn.Parameter(th.randn(d, d) / sqrt(d))\n",
    "        self.E = E\n",
    "        self.UT = U.T\n",
    "\n",
    "    def forward(self, x):\n",
    "        \"\"\"\n",
    "        Compute the score :math:`g(x, y) = u_y^\\top W e_x`.\n",
    "        \"\"\"\n",
    "        emb = self.E[x]\n",
    "        if emb.size(0) < self.UT.size(1):   # if b < m\n",
    "            out = emb @ self.W      # (b, d) @ (d, d) -> (b, d)  in O(bd^2)\n",
    "            out = out @ self.UT     # (b, d) @ (d, m) -> (b, m)  in O(bdm)\n",
    "        else:\n",
    "            out = self.W @ self.UT  # (d, d) @ (d, m) -> (d, m)  in O(md^2)\n",
    "            out = emb @ out         # (b, d) @ (d, m) -> (b, m)  in O(bdm)\n",
    "        return out\n",
    "\n",
    "    def fit(self, x):\n",
    "        \"\"\"\n",
    "        Compute the prediction :math:`f(x) = \\operatorname{argmax}_y u_y^\\top W e_x`.\n",
    "        \"\"\"\n",
    "        score = self.forward(x)\n",
    "        return score.argmax(dim=1)\n"
   ]
  },
  {
   "attachments": {},
   "cell_type": "markdown",
   "metadata": {},
   "source": [
    "## Data\n",
    "Let's start with a small specification of the model.\n",
    "Assume that the $y = x$ and the $x$ is taken uniformly at random over $n$ integers.\n",
    "Later we could consider more complex model such as $y = f(x, \\epsilon)$ where $\\epsilon$ is a noise term, and $x$ to be non-uniform (which would reduce the \"effective dimension\")."
   ]
  },
  {
   "cell_type": "code",
   "execution_count": 5,
   "metadata": {},
   "outputs": [],
   "source": [
    "# number of input tokens\n",
    "n = 30\n",
    "\n",
    "# probability of the inputs, a Zipf law of parameter alpha\n",
    "alpha = 0                 # alpha = 0 means uniform distribution\n",
    "all_x = th.arange(n)\n",
    "proba = (all_x + 1.) ** (-alpha)\n",
    "proba /= proba.sum()"
   ]
  },
  {
   "cell_type": "code",
   "execution_count": 6,
   "metadata": {},
   "outputs": [],
   "source": [
    "# association model\n",
    "def f(x, epsilon=None):\n",
    "    \"\"\"\n",
    "    Model of association between `x` and `y`.\n",
    "    \"\"\"\n",
    "    return x\n",
    "\n",
    "# noise level\n",
    "epsilon = 0\n",
    "\n",
    "# target associations\n",
    "all_y = f(all_x, 0)"
   ]
  },
  {
   "cell_type": "code",
   "execution_count": 7,
   "metadata": {},
   "outputs": [],
   "source": [
    "# memory dimension\n",
    "d = 10\n",
    "\n",
    "# random embeddings\n",
    "E = get_embeddings(all_x.max() + 1, d, norm=False)\n",
    "U = get_embeddings(all_y.max() + 1, d, norm=True)\n",
    "\n",
    "# model\n",
    "model = AssMem(E, U)"
   ]
  },
  {
   "attachments": {},
   "cell_type": "markdown",
   "metadata": {},
   "source": [
    "## Optimization procedure\n",
    "We will learn the matrix $W$ by gradient descent on a surrogate loss function.\n",
    "We use the softmax loss (which is convex in $W$)\n",
    "$$\n",
    "    \\ell(W; x, y) = \\log \\left( \\sum_{z} \\exp \\langle e_x, W u_z \\rangle \\right) - \\langle e_x, W u_y \\rangle.\n",
    "$$\n",
    "We begin with a constant step size $\\eta$, and batch size equals one.\n",
    "We begin with a constant step size $\\eta$, and batch size equals one.\n",
    "We could easily change the code to try out other optimization procedures."
   ]
  },
  {
   "cell_type": "code",
   "execution_count": 8,
   "metadata": {},
   "outputs": [],
   "source": [
    "# optimization parameter \n",
    "batch_size = 1\n",
    "nb_epoch = 10000\n",
    "T = nb_epoch * batch_size\n",
    "lr = 1e-3\n",
    "\n",
    "optimizer = th.optim.SGD(model.parameters(), lr=lr, momentum=0)\n",
    "# scheduler = th.optim.lr_scheduler.StepLR(optimizer, nb_epoch // 10, gamma=0.1)"
   ]
  },
  {
   "cell_type": "code",
   "execution_count": 9,
   "metadata": {},
   "outputs": [],
   "source": [
    "# training loop \n",
    "\n",
    "train_loss = th.zeros(nb_epoch)\n",
    "test_loss = th.zeros(nb_epoch)\n",
    "\n",
    "for i in range(nb_epoch):\n",
    "    # get batch of data\n",
    "    x = th.multinomial(proba, batch_size, replacement=True)\n",
    "    y = f(x, epsilon)\n",
    "\n",
    "    # compute loss\n",
    "    score = model(x)\n",
    "    loss = F.cross_entropy(score, y)\n",
    "    \n",
    "    # record statistics\n",
    "    train_loss[i] = loss.item()\n",
    "    with th.no_grad():\n",
    "        pred = model.fit(all_x)\n",
    "        test_loss[i] = proba[pred != all_y].sum().item()\n",
    "\n",
    "    # update parameters with gradient descent\n",
    "    loss.backward()\n",
    "    optimizer.step()\n",
    "    # scheduler.step()\n"
   ]
  },
  {
   "attachments": {},
   "cell_type": "markdown",
   "metadata": {},
   "source": [
    "## Visualization\n",
    "\n",
    "We configure matplotlib to render nicely in a TeX file by notably compute the width of figures exactly (rather than resizing it in TeX).\n",
    "You can find width of a LaTeX documents with \\the\\textwidth, and the font size with \\expandafter\\string\\the\\font\n",
    "Here I assume that we use the `times` font with a size of 12pt, and a document of width 6.5in (or 472 pt)."
   ]
  },
  {
   "cell_type": "code",
   "execution_count": 10,
   "metadata": {},
   "outputs": [
    {
     "name": "stdout",
     "output_type": "stream",
     "text": [
      "/home/vivc/.local/share/texlive/2022/bin/x86_64-linux/pdflatex\n"
     ]
    }
   ],
   "source": [
    "width = 472 / 72\n",
    "\n",
    "plt.rc('font', family='serif', size=12)\n",
    "usetex = not subprocess.run(['which', 'pdflatex']).returncode\n",
    "plt.rc('text', usetex=usetex)\n",
    "if usetex:\n",
    "    plt.rc('text.latex', preamble=r'\\usepackage{times}')"
   ]
  },
  {
   "attachments": {},
   "cell_type": "markdown",
   "metadata": {},
   "source": [
    "To average out the noise in the training procedure, we can use an exponential moving average"
   ]
  },
  {
   "cell_type": "code",
   "execution_count": 11,
   "metadata": {},
   "outputs": [],
   "source": [
    "@th.jit.script\n",
    "def ewma(x: th.Tensor, theta: float):\n",
    "    r = th.zeros_like(x)\n",
    "    r[0] = x[0]\n",
    "    for i in range(1, x.shape[0]):\n",
    "        r[i] = theta * r[i - 1] + (1 - theta) * x[i]\n",
    "    return r"
   ]
  },
  {
   "cell_type": "code",
   "execution_count": 12,
   "metadata": {},
   "outputs": [
    {
     "data": {
      "image/png": "[encoded data removed]",
      "text/plain": [
       "<Figure size 1000x300 with 2 Axes>"
      ]
     },
     "metadata": {},
     "output_type": "display_data"
    }
   ],
   "source": [
    "# # for TeX documents\n",
    "# fig, ax = plt.subplots(1, 1, figsize=(.48 * width, .48 * width / 1.618))\n",
    "# for visualization ease in this notebook\n",
    "fig, axes = plt.subplots(1, 2, figsize=(10, 3))\n",
    "\n",
    "axes[0].plot(th.arange(nb_epoch), train_loss, label='train')\n",
    "smooth_train_loss = ewma(train_loss, .99)\n",
    "axes[0].plot(th.arange(nb_epoch), smooth_train_loss, label='train')\n",
    "axes[1].plot(th.arange(nb_epoch), test_loss, label='test')\n",
    "\n",
    "for i in range(2):\n",
    "    axes[i].set_xscale('log')\n",
    "    axes[i].set_yscale('log')\n",
    "    axes[i].set_xlabel('epoch', fontsize=14)\n",
    "    loss_type = {0: \"train\", 1: \"test\"}[i]\n",
    "    axes[i].set_ylabel(f'{loss_type} loss', fontsize=14)\n",
    "\n",
    "# fig.savefig('eos_first_plot.pdf', bbox_inches='tight', pad_inches=0)"
   ]
  },
  {
   "attachments": {},
   "cell_type": "markdown",
   "metadata": {},
   "source": [
    "# Part 2: Profiling the training to analyze it\n",
    "\n",
    "## Training Dynamics Logging\n",
    "In order to better understand the dynamics of the optimization, we will monitor quantities related to the gradient and the Hessian of the loss function.\n",
    "Note that the softmax loss can be understood as a cross-entropy loss between the model probability and the empirical probability, or the inverse log-likelihood of the model probability.\n",
    "$$\n",
    "    \\ell(W; x, y) = -\\log p_W(y \\,\\vert\\, x), \\qquad\\text{where}\\qquad\n",
    "    p_W(y \\,\\vert\\, x) = \\frac{\\exp \\langle e_x, W u_y \\rangle}{\\sum_{z} \\exp \\langle e_x, W u_z \\rangle}.\n",
    "$$\n",
    "\n",
    "The gradient is easy to compute with simple rules:\n",
    "$$\n",
    "    \\nabla \\ell(W; x, y) \n",
    "    = \\nabla \\log \\left( \\sum_{z} \\exp \\langle e_x, W u_z \\rangle \\right) - \\nabla \\langle e_x, W u_y \\rangle\n",
    "    = \\sum_{z} \\frac{\\exp \\langle e_x, W u_z \\rangle}{\\sum_{z'} \\exp \\langle e_x, W u_{z'} \\rangle} e_x u_z^\\top  - e_x u_y^\\top\n",
    "    = \\sum_{z} p_W(z\\,\\vert\\, x) e_x u_z^\\top - e_x u_y^\\top.\n",
    "$$\n",
    "\n",
    "Now, notice that when the gradient can be written as\n",
    "$$\n",
    "    \\nabla \\ell(\\theta) = g(\\theta) \\cdot a = (\\partial_i \\ell(\\theta))_{i}, \\qquad\\text{with}\\qquad g(\\theta) \\in \\R,\\quad a \\in \\R^d,\n",
    "$$\n",
    "the Hessian follows as\n",
    "$$\n",
    "    \\nabla^2 \\ell(\\theta) = (\\partial_{ij}\\ell(\\theta)) = (\\partial_i\\partial_j \\ell(\\theta)) = (\\partial_i g(\\theta)\\, a_j) = (\\nabla g(\\theta))\\,a^\\top.\n",
    "$$\n",
    "In our case, we want to use the Euclidean structure on the matrix space, which leads to\n",
    "$$\n",
    "    \\nabla^2 \\ell(W; x, y) = \\sum_{z} \\nabla p_W(z\\,\\vert\\, x) (e_x \\otimes u_z)^\\top.\n",
    "$$\n",
    "To compute $\\nabla p_W(z\\,\\vert\\, x)$, notice that we could equally have expressed the loss gradient as\n",
    "$$\n",
    "    \\nabla \\ell(W; x, y) = -\\nabla \\log p_W(y\\,\\vert\\,x) = -\\frac{\\nabla p_W(y\\,\\vert\\,x)}{p_W(y\\,\\vert\\, x)},\n",
    "$$\n",
    "from which we deduce that\n",
    "$$\n",
    "    \\nabla p_W(z\\,\\vert\\,x) = - p_W(z\\,\\vert\\, x) \\nabla \\ell(W; x, z)\n",
    "    = p_W(z\\,\\vert\\, x)\\left(e_x \\otimes u_z - \\sum_{z'} p_W(z'\\,\\vert\\, x) e_x \\otimes u_{z'} \\right).\n",
    "$$\n",
    "We are left with\n",
    "$$\n",
    "    \\nabla^2 \\ell(W; x, y) = \\sum_{z} \\nabla p_W(z\\,\\vert\\, x) (e_x \\otimes u_z )^\\top\n",
    "    =  \\sum_{z}\\left(p_W(z\\,\\vert\\, x)\\left(e_x \\otimes u_z - \\sum_{z'} p_W(z'\\,\\vert\\, x) e_x \\otimes u_{z'} \\right)\\right) (e_x \\otimes u_z)^\\top.\n",
    "$$\n",
    "This can be developed as\n",
    "$$\n",
    "    \\nabla^2 \\ell(W; x, y) = \\sum_{z} p_W(z\\,\\vert\\, x) (e_x \\otimes u_z)(e_x\\otimes u_z)^\\top - \\sum_{z, z'} p_W(z\\,\\vert\\, x) p_W(z'\\,\\vert\\, x) (e_x\\otimes u_z)(e_x\\otimes u_{z'})^\\top\n",
    "    = \\sum_{z,z'} p_W(z\\,\\vert\\, x) (\\delta_{z,z'} - p_W(z'\\,\\vert\\, x)) e_x\\otimes u_z\\otimes e_x\\otimes u_{z'}.\n",
    "$$\n",
    "It would be reassuring to check that this Hessian is symmetric and positive semi-definite.\n",
    "It seems to be the case: if $u_y \\otimes e_x$ forms a orthogonal basis of $\\R^{d\\times d}$ then we are left with the matrix domination problem $(a_i a_j)_{ij} \\preceq \\operatorname{diag}(a_i)_i$ when $a_i$ sum to one; and when $u_y \\otimes e_x$ is not a basis, we can likely come back to the previous case.\n",
    "\n",
    "At the moment the Hessian is written as some sort of fourth dimensional tensor.\n",
    "Let us put in a matrix form.\n",
    "We have, with $f_i$ the canonical basis of $\\R^d$, and $a$ and $b$ in $\\R^d$\n",
    "$$\n",
    "    (a b^\\top)_{i,j} = \\langle a, f_i \\rangle \\langle b, f_j \\rangle  \n",
    "$$\n",
    "and as a consequence, using $ij$ as the index for $\\R^{d\\times d}$ and $f_i f_j^\\top$ as the canonical basis of $\\R^{d\\times d}$\n",
    "$$\n",
    "    \\left((e_x \\otimes u_y)(e_x\\otimes u_z)^\\top\\right)_{ij, kl}\n",
    "    =  \\langle e_x \\otimes u_y, f_i \\otimes f_j \\rangle \\langle e_x\\otimes u_z, f_k\\otimes f_l \\rangle  \n",
    "    = (f_i^\\top e_x)(f_j^\\top u_y)(f_k^\\top e_x)(f_i^\\top u_z)\n",
    "    = \\langle f_i\\otimes f_j\\otimes f_k\\otimes f_l\\otimes, e_x\\otimes u_y\\otimes e_x\\otimes u_z\\rangle.\n",
    "$$\n",
    "Note that this is equivalent to considering the basis $f_i\\otimes f_j \\otimes f_k \\otimes f_l$.\n",
    "For the Hessian, it leads to\n",
    "$$\n",
    "    (\\nabla^2 \\ell(W; x, y))_{ij, kl} \n",
    "    = \\sum_{z,z'} p_W(z\\,\\vert\\, x) \\left(\\delta_{z,z'} - p_W(z'\\,\\vert\\, x)\\right) (f_i^\\top e_x)(f_j^\\top u_z)(f_k^\\top e_x)(f_i^\\top u_{z'}).\n",
    "$$"
   ]
  },
  {
   "cell_type": "code",
   "execution_count": 13,
   "metadata": {},
   "outputs": [],
   "source": [
    "from torch.autograd.functional import hessian"
   ]
  },
  {
   "cell_type": "code",
   "execution_count": 14,
   "metadata": {},
   "outputs": [],
   "source": [
    "batch_size = 20\n",
    "x = th.multinomial(proba, batch_size, replacement=True)\n",
    "y = f(x, epsilon)\n",
    "emb = E[x]\n",
    "W = th.randn(d, d)\n",
    "\n",
    "def loss_func(inp):\n",
    "    logit = emb @ inp @ U.T\n",
    "    log_likelihood = F.log_softmax(logit, dim=1)\n",
    "    return - log_likelihood[th.arange(batch_size), y].mean()\n",
    "\n",
    "# compute quantities with pytorch\n",
    "hess = hessian(loss_func, W)\n",
    "\n",
    "W.requires_grad=True\n",
    "my_loss = loss_func(W)\n",
    "grad = th.autograd.grad(my_loss, W)[0]\n",
    "\n",
    "model.W.data = W\n",
    "score = model(x)\n",
    "loss = F.cross_entropy(score, y)\n",
    "nn_grad = th.autograd.grad(loss, model.W)[0]\n",
    "\n",
    "# compute quantities ourselves, start with the gradient\n",
    "prob = F.softmax(score, dim=1)\n",
    "prob[th.arange(batch_size), y] -= 1\n",
    "my_grad = emb.T @ prob @ U\n",
    "my_grad /= batch_size\n",
    "\n",
    "# Hessian computation\n",
    "# part of the tensor that is due to e_x\n",
    "tmp_x = (emb.view(batch_size, d, 1) * emb.view(batch_size, 1, d))\n",
    "\n",
    "# part of the tensor that is due to u_z\n",
    "prob = F.softmax(score, dim=1)\n",
    "# part of the tensor that is due to u_z u_z'\n",
    "tmp = prob @ U\n",
    "tmp_z_cross = (tmp.view(batch_size, d, 1) * tmp.view(batch_size, 1, d))\n",
    "# part of the tensor that is due to u_z u_z\n",
    "m = U.size(0)\n",
    "tmp_z_inner = th.einsum('nm,mde->nde', prob, (U.view(m, d, 1) * U.view(m, 1, d)))\n",
    "# adding the two \n",
    "tmp_z = tmp_z_inner - tmp_z_cross\n",
    "\n",
    "my_hess = (tmp_x.view(batch_size, d, 1, d, 1) * tmp_z.view(batch_size, 1, d, 1, d)).mean(dim=0)\n",
    "my_hess_flat = my_hess.view(d*d, d*d)\n",
    "\n",
    "# check correctness\n",
    "assert (loss - my_loss) < 1e-7\n",
    "assert (grad == nn_grad).all()\n",
    "assert (grad - my_grad).abs().max().item() < 1e-7\n",
    "assert (my_hess - hess).abs().max().item() < 1e-7\n",
    "\n",
    "# check PSD\n",
    "assert (my_hess_flat - my_hess_flat.T).max().abs() < 1e-7\n",
    "assert (th.linalg.eigvals(my_hess_flat).real > 0).all()"
   ]
  },
  {
   "attachments": {},
   "cell_type": "markdown",
   "metadata": {},
   "source": [
    "We write our Hessian implementation as an outside function"
   ]
  },
  {
   "cell_type": "code",
   "execution_count": 15,
   "metadata": {},
   "outputs": [],
   "source": [
    "from model import AssociativeMemory\n",
    "\n",
    "model = AssociativeMemory(E, U)\n",
    "model.W.data = W\n",
    "my_new_hess = model.hessian(x)\n",
    "new_hess = model.autograd_hessian(x)\n",
    "\n",
    "assert (my_new_hess - my_hess_flat).abs().max() < 1e-7\n",
    "assert (new_hess - my_new_hess).abs().max() < 1e-7"
   ]
  },
  {
   "attachments": {},
   "cell_type": "markdown",
   "metadata": {},
   "source": [
    "To compute the eigenvalues, it is better to use Lapack-based implementations that are not in pytorch at the moment."
   ]
  },
  {
   "cell_type": "code",
   "execution_count": 16,
   "metadata": {},
   "outputs": [],
   "source": [
    "from scipy.linalg import eigh\n",
    "\n",
    "top_eigenvalues = eigh(my_hess_flat.detach().numpy(), eigvals_only=True, subset_by_index=[d*d-10, d*d-1])"
   ]
  },
  {
   "attachments": {},
   "cell_type": "markdown",
   "metadata": {},
   "source": [
    "## Training loop with Hessian profiling"
   ]
  },
  {
   "cell_type": "code",
   "execution_count": 21,
   "metadata": {},
   "outputs": [],
   "source": [
    "# hyparameters\n",
    "n = 30\n",
    "alpha = 0\n",
    "epsilon = 0\n",
    "d = 10\n",
    "\n",
    "batch_size = 1\n",
    "nb_epoch = 10000\n",
    "T = nb_epoch * batch_size\n",
    "lr = 1e-3\n",
    "\n",
    "# data\n",
    "all_x = th.arange(n)\n",
    "proba = (all_x + 1.) ** (-alpha)\n",
    "proba /= proba.sum()\n",
    "all_y = f(all_x, epsilon)\n",
    "\n",
    "# model\n",
    "E = get_embeddings(all_x.max() + 1, d, norm=False)\n",
    "U = get_embeddings(all_y.max() + 1, d, norm=True)\n",
    "model = AssociativeMemory(E, U)\n",
    "optimizer = th.optim.SGD(model.parameters(), lr=lr, momentum=0)"
   ]
  },
  {
   "cell_type": "code",
   "execution_count": 22,
   "metadata": {},
   "outputs": [],
   "source": [
    "# training loop \n",
    "k = 10\n",
    "\n",
    "train_loss = th.zeros(nb_epoch)\n",
    "test_loss = th.zeros(nb_epoch)\n",
    "eigenvals = np.zeros((nb_epoch, k))\n",
    "\n",
    "for i in range(nb_epoch):\n",
    "    # get batch of data\n",
    "    x = th.multinomial(proba, batch_size, replacement=True)\n",
    "    y = f(x, epsilon)\n",
    "\n",
    "    # compute loss\n",
    "    score = model(x)\n",
    "    loss = F.cross_entropy(score, y)\n",
    "    \n",
    "    # record statistics\n",
    "    train_loss[i] = loss.item()\n",
    "    with th.no_grad():\n",
    "        pred = model.fit(all_x)\n",
    "        test_loss[i] = proba[pred != all_y].sum().item()\n",
    "\n",
    "    # Hessian statistics\n",
    "    hessian = model.hessian(all_x, proba)\n",
    "    eigenvals[i] = eigh(hessian.numpy(), eigvals_only=True, subset_by_index=[d*d-k, d*d-1])\n",
    "\n",
    "    # update parameters with gradient descent\n",
    "    loss.backward()\n",
    "    optimizer.step()\n",
    "    # scheduler.step()\n"
   ]
  },
  {
   "cell_type": "code",
   "execution_count": 23,
   "metadata": {},
   "outputs": [
    {
     "data": {
      "text/plain": [
       "[<matplotlib.lines.Line2D at 0x7f8957f4c460>]"
      ]
     },
     "execution_count": 23,
     "metadata": {},
     "output_type": "execute_result"
    },
    {
     "data": {
      "image/png": "[encoded data removed]",
      "text/plain": [
       "<Figure size 1000x300 with 3 Axes>"
      ]
     },
     "metadata": {},
     "output_type": "display_data"
    }
   ],
   "source": [
    "fig, axes = plt.subplots(1, 3, figsize=(10, 3))\n",
    "axes[0].plot(np.arange(nb_epoch), eigenvals[:, -1])\n",
    "axes[1].plot(th.arange(nb_epoch), train_loss)\n",
    "axes[2].plot(th.arange(nb_epoch), test_loss)"
   ]
  },
  {
   "attachments": {},
   "cell_type": "markdown",
   "metadata": {},
   "source": [
    "## Note for later\n",
    "- Think about the link between memory erasing and the edge of stability.\n",
    "- Note that we are in a convex problem, so things can be analyzed with convex analysis, although our point is to understand the dynamics with a perspective that do not required convexity."
   ]
  },
  {
   "cell_type": "code",
   "execution_count": null,
   "metadata": {},
   "outputs": [],
   "source": []
  }
 ],
 "metadata": {
  "kernelspec": {
   "display_name": "base",
   "language": "python",
   "name": "python3"
  },
  "language_info": {
   "codemirror_mode": {
    "name": "ipython",
    "version": 3
   },
   "file_extension": ".py",
   "mimetype": "text/x-python",
   "name": "python",
   "nbconvert_exporter": "python",
   "pygments_lexer": "ipython3",
   "version": "3.10.4"
  },
  "orig_nbformat": 4
 },
 "nbformat": 4,
 "nbformat_minor": 2
}
