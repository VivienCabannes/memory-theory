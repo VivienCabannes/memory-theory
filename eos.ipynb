{
 "cells": [
  {
   "attachments": {},
   "cell_type": "markdown",
   "metadata": {},
   "source": [
    "# Notebook to study edge of stability for the Associative memory model\n",
    "\n",
    "I will keep this notebook minimalist, check the scratchpad notebook if you want to better understand the code."
   ]
  },
  {
   "cell_type": "code",
   "execution_count": 1,
   "metadata": {},
   "outputs": [
    {
     "name": "stdout",
     "output_type": "stream",
     "text": [
      "/home/vivc/.local/share/texlive/2022/bin/x86_64-linux/pdflatex\n"
     ]
    },
    {
     "data": {
      "text/plain": [
       "<torch._C.Generator at 0x7fd05bf1c1b0>"
      ]
     },
     "execution_count": 1,
     "metadata": {},
     "output_type": "execute_result"
    }
   ],
   "source": [
    "import subprocess\n",
    "import sys\n",
    "\n",
    "import matplotlib.pyplot as plt\n",
    "import numpy as np\n",
    "import torch\n",
    "import torch.nn.functional as F\n",
    "from scipy.linalg import eigh\n",
    "\n",
    "sys.path.append('.')\n",
    "from model import AssociativeMemory, get_embeddings\n",
    "\n",
    "plt.rc('font', family='serif', size=8)\n",
    "usetex = not subprocess.run(['which', 'pdflatex']).returncode\n",
    "plt.rc('text', usetex=usetex)\n",
    "if usetex:\n",
    "    plt.rc('text.latex', preamble=r'\\usepackage{times}')\n",
    "    \n",
    "torch.manual_seed(0)"
   ]
  },
  {
   "cell_type": "code",
   "execution_count": 2,
   "metadata": {},
   "outputs": [],
   "source": [
    "# hyparameters\n",
    "n = 30\n",
    "alpha = 0\n",
    "epsilon = 0\n",
    "d = 8\n",
    "\n",
    "batch_size = 100\n",
    "nb_epoch = 1000\n",
    "T = nb_epoch * batch_size\n",
    "lr = 1e3\n",
    "\n",
    "def f(x, epsilon=0):\n",
    "    return x\n",
    "\n",
    "# data\n",
    "all_x = torch.arange(n)\n",
    "proba = (all_x + 1.) ** (-alpha)\n",
    "proba /= proba.sum()\n",
    "all_y = f(all_x, epsilon)\n",
    "\n",
    "# model\n",
    "E = get_embeddings(all_x.max() + 1, d, norm=False)\n",
    "U = get_embeddings(all_y.max() + 1, d, norm=True)\n",
    "model = AssociativeMemory(E, U)\n",
    "optimizer = torch.optim.SGD(model.parameters(), lr=lr, momentum=0)"
   ]
  },
  {
   "cell_type": "code",
   "execution_count": 3,
   "metadata": {},
   "outputs": [],
   "source": [
    "# training loop \n",
    "k = 10   # number of eigenvalues to track\n",
    "\n",
    "train_loss = torch.zeros(nb_epoch)\n",
    "train_loss_pop = torch.zeros(nb_epoch)\n",
    "test_loss = torch.zeros(nb_epoch)\n",
    "eigenvals = np.zeros((nb_epoch, k))\n",
    "eigenvals_pop = np.zeros((nb_epoch, k))\n",
    "\n",
    "for i in range(nb_epoch):\n",
    "    # get batch of data\n",
    "    x = torch.multinomial(proba, batch_size, replacement=True)\n",
    "    y = f(x, epsilon)\n",
    "\n",
    "    # compute loss\n",
    "    score = model(x)\n",
    "    loss = F.cross_entropy(score, y)\n",
    "    \n",
    "    # record statistics\n",
    "    train_loss[i] = loss.item()\n",
    "    with torch.no_grad():\n",
    "        pred = model.fit(all_x)\n",
    "        test_loss[i] = proba[pred != all_y].sum().item()\n",
    "\n",
    "        # Hessian statistics\n",
    "        score = model(all_x)\n",
    "        log_likelihood = F.log_softmax(score, dim=1)\n",
    "        log_likelihood = - log_likelihood[torch.arange(len(all_x)), all_y]\n",
    "        log_likelihood *= proba\n",
    "        train_loss_pop[i] = log_likelihood.sum()\n",
    "        \n",
    "        # record statistics\n",
    "        train_loss[i] = loss.item()\n",
    "\n",
    "    # Hessian statistics\n",
    "    hessian = model.hessian(x)\n",
    "    eigenvals[i] = eigh(hessian.numpy(), eigvals_only=True, subset_by_index=[d*d-k, d*d-1])\n",
    "    population_hessian = model.hessian(all_x, proba)\n",
    "    eigenvals_pop[i] = eigh(population_hessian.numpy(), eigvals_only=True, subset_by_index=[d*d-k, d*d-1])\n",
    "\n",
    "    # update parameters with gradient descent\n",
    "    optimizer.zero_grad()\n",
    "    loss.backward()\n",
    "    optimizer.step()\n",
    "    # scheduler.step()\n"
   ]
  },
  {
   "cell_type": "code",
   "execution_count": 4,
   "metadata": {},
   "outputs": [],
   "source": [
    "@torch.jit.script\n",
    "def ewma(x: torch.Tensor, theta: float):\n",
    "    r = torch.zeros_like(x)\n",
    "    r[0] = x[0]\n",
    "    for i in range(1, x.shape[0]):\n",
    "        r[i] = theta * r[i - 1] + (1 - theta) * x[i]\n",
    "    return r"
   ]
  },
  {
   "cell_type": "code",
   "execution_count": 7,
   "metadata": {},
   "outputs": [
    {
     "data": {
      "image/png": "[encoded data removed]",
      "text/plain": [
       "<Figure size 550x125 with 5 Axes>"
      ]
     },
     "metadata": {},
     "output_type": "display_data"
    }
   ],
   "source": [
    "fig, axes = plt.subplots(1, 5, figsize=(5.5, 1.25))\n",
    "axes[0].plot(torch.arange(nb_epoch), train_loss)\n",
    "smooth_train_loss = ewma(train_loss, .99)\n",
    "axes[0].plot(torch.arange(nb_epoch), smooth_train_loss)\n",
    "axes[0].set_title('Train loss')\n",
    "axes[1].plot(np.arange(nb_epoch), eigenvals[:, -1])\n",
    "smooth_hess = ewma(torch.tensor(eigenvals[:, -1]), .99)\n",
    "axes[1].plot(torch.arange(nb_epoch), smooth_hess)\n",
    "axes[1].plot(torch.arange(nb_epoch), np.full(nb_epoch, 2 / lr), color='k', linestyle='--')\n",
    "axes[1].set_title('Hessian norm')\n",
    "axes[2].plot(torch.arange(nb_epoch), train_loss_pop)\n",
    "axes[2].set_title('Likelihood')\n",
    "axes[3].plot(np.arange(nb_epoch), eigenvals_pop[:, -1])\n",
    "axes[3].plot(torch.arange(nb_epoch), np.full(nb_epoch, 2 / lr), color='k', linestyle='--')\n",
    "axes[3].set_title('Population Hessian')\n",
    "axes[4].plot(torch.arange(nb_epoch), test_loss)\n",
    "axes[4].set_title('Testing loss')\n",
    "# fig.suptitle('Training dynamics plots')\n",
    "fig.savefig('eos.pdf', bbox_inches='tight', pad_inches=0)"
   ]
  },
  {
   "cell_type": "code",
   "execution_count": null,
   "metadata": {},
   "outputs": [],
   "source": []
  }
 ],
 "metadata": {
  "kernelspec": {
   "display_name": "dev",
   "language": "python",
   "name": "python3"
  },
  "language_info": {
   "codemirror_mode": {
    "name": "ipython",
    "version": 3
   },
   "file_extension": ".py",
   "mimetype": "text/x-python",
   "name": "python",
   "nbconvert_exporter": "python",
   "pygments_lexer": "ipython3",
   "version": "3.10.4"
  },
  "orig_nbformat": 4
 },
 "nbformat": 4,
 "nbformat_minor": 2
}
